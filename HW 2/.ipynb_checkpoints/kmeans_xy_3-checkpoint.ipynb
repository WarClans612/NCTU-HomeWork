{
 "cells": [
  {
   "cell_type": "code",
   "execution_count": 1,
   "metadata": {},
   "outputs": [],
   "source": [
    "# %load kmeans.py\n",
    "## Initialisation\n",
    "import random\n",
    "import pandas as pd\n",
    "import numpy as np\n",
    "import matplotlib.pyplot as plt\n",
    "import copy\n",
    "\n",
    "colmap = {1: 'r', 2: 'g', 3: 'b', 4: 'c', 5: 'm', 6: 'y'}\n",
    "df = pd.read_csv('data_noah.csv', usecols=['x', 'y'])\n",
    "df['color'] = np.full((len(df), 1), 'k')\n",
    "\n",
    "plotx_min = min(df['x']) - 1\n",
    "plotx_max = max(df['x']) + 1\n",
    "ploty_min = min(df['y']) - 1\n",
    "ploty_max = max(df['y']) + 1"
   ]
  },
  {
   "cell_type": "code",
   "execution_count": 2,
   "metadata": {},
   "outputs": [],
   "source": [
    "def draw_plot():\n",
    "    plt.figure(figsize=(5, 5))\n",
    "    plt.scatter(df['x'], df['y'], color=df['color'], alpha=0.5, edgecolor='k')\n",
    "    for i in centroids.keys():\n",
    "        plt.scatter(*centroids[i], color=colmap[i])\n",
    "    plt.xlim(plotx_min, plotx_max)\n",
    "    plt.ylim(ploty_min, ploty_max)\n",
    "    plt.show()"
   ]
  },
  {
   "cell_type": "code",
   "execution_count": 3,
   "metadata": {
    "scrolled": false
   },
   "outputs": [],
   "source": [
    "## Assignment Stage\n",
    "def assignment(df, centroids):\n",
    "    for i in centroids.keys():\n",
    "        # sqrt((x1 - x2)^2 - (y1 - y2)^2)\n",
    "        df['distance_from_{}'.format(i)] = (\n",
    "            np.sqrt(\n",
    "                (df['x'] - centroids[i][0]) ** 2\n",
    "             + (df['y'] - centroids[i][1]) ** 2\n",
    "            )\n",
    "        )\n",
    "    centroid_distance_cols = ['distance_from_{}'.format(i) for i in centroids.keys()]\n",
    "    df['closest'] = df.loc[:, centroid_distance_cols].idxmin(axis=1)\n",
    "    df['closest'] = df['closest'].map(lambda x: int(x.lstrip('distance_from_')))\n",
    "    df['color'] = df['closest'].map(lambda x: colmap[x])\n",
    "    return df"
   ]
  },
  {
   "cell_type": "code",
   "execution_count": 4,
   "metadata": {},
   "outputs": [],
   "source": [
    "## Update Stage\n",
    "def update(k):\n",
    "    for i in centroids.keys():\n",
    "        centroids[i][0] = np.mean(df[df['closest'] == i]['x'])\n",
    "        centroids[i][1] = np.mean(df[df['closest'] == i]['y'])\n",
    "    return k"
   ]
  },
  {
   "cell_type": "code",
   "execution_count": 5,
   "metadata": {},
   "outputs": [],
   "source": [
    "# draw update arrows\n",
    "# fig = plt.figure(figsize=(5, 5))\n",
    "# plt.scatter(df['x'], df['y'], color=df['color'], alpha=0.5, edgecolor='k')\n",
    "# for i in centroids.keys():\n",
    "#     plt.scatter(*centroids[i], color=colmap[i])\n",
    "# plt.xlim(plotx_min, plotx_max)\n",
    "# plt.ylim(ploty_min, ploty_max)\n",
    "\n",
    "# ax = plt.axes()\n",
    "# for i in old_centroids.keys():\n",
    "#     old_x = old_centroids[i][0]\n",
    "#     old_y = old_centroids[i][1]\n",
    "#     dx = (centroids[i][0] - old_centroids[i][0]) * 0.75\n",
    "#     dy = (centroids[i][1] - old_centroids[i][1]) * 0.75\n",
    "#     ax.arrow(old_x, old_y, dx, dy, head_width=2, head_length=3, fc=colmap[i], ec=colmap[i])\n",
    "# plt.show()"
   ]
  },
  {
   "cell_type": "code",
   "execution_count": 6,
   "metadata": {},
   "outputs": [],
   "source": [
    "# cost function\n",
    "def cost_func():\n",
    "    err = 0;\n",
    "    for i in range(len(df)):\n",
    "        j = df['closest'][i]\n",
    "        err = err + df['distance_from_{}'.format(j)][i]\n",
    "    return err"
   ]
  },
  {
   "cell_type": "code",
   "execution_count": 7,
   "metadata": {},
   "outputs": [
    {
     "name": "stdout",
     "output_type": "stream",
     "text": [
      "[8648.990954687404, 3916.6411570054174, 2810.982687659296]\n"
     ]
    },
    {
     "data": {
      "image/png": "[encoded data removed]",
      "text/plain": [
       "<Figure size 432x288 with 1 Axes>"
      ]
     },
     "metadata": {
      "needs_background": "light"
     },
     "output_type": "display_data"
    }
   ],
   "source": [
    "sumerr = [] \n",
    "K = 4 # K<=7\n",
    "for k in range(1, K):\n",
    "    centroids = { i+1: [df['x'][entry], df['y'][entry]] for i, entry in enumerate(random.sample(range(len(df)), k)) }\n",
    "#     old_centroids = copy.copy(centroids)\n",
    "    df = assignment(df, centroids)\n",
    "    \n",
    "    while True:\n",
    "        closest_centroids = df['closest'].copy(deep=True)\n",
    "        centroids = update(centroids)\n",
    "        df = assignment(df, centroids)\n",
    "        if closest_centroids.equals(df['closest']): break\n",
    "    \n",
    "#     draw_plot()\n",
    "    sumerr.append(cost_func())\n",
    "    \n",
    "print(sumerr)\n",
    "plt.plot(list(i for i in range(1, K)), sumerr)\n",
    "plt.xlabel('number of clusters')\n",
    "plt.ylabel('sum of error')\n",
    "plt.xlim(0, K)\n",
    "plt.show()"
   ]
  },
  {
   "cell_type": "code",
   "execution_count": 8,
   "metadata": {},
   "outputs": [
    {
     "name": "stdout",
     "output_type": "stream",
     "text": [
      "['CH' 'CU' 'FF'] ['b' 'g' 'r']\n"
     ]
    },
    {
     "data": {
      "text/html": [
       "<style  type=\"text/css\" >\n",
       "    #T_2a4650a2_e3a1_11e8_b835_305a3ab905eerow0_col0 {\n",
       "            background-color:  blue;\n",
       "             opacity:  0.6;\n",
       "        }    #T_2a4650a2_e3a1_11e8_b835_305a3ab905eerow0_col1 {\n",
       "            background-color:  green;\n",
       "             opacity:  0.6;\n",
       "        }    #T_2a4650a2_e3a1_11e8_b835_305a3ab905eerow0_col2 {\n",
       "            background-color:  red;\n",
       "             opacity:  0.6;\n",
       "        }    #T_2a4650a2_e3a1_11e8_b835_305a3ab905eerow1_col0 {\n",
       "            background-color:  blue;\n",
       "             opacity:  0.6;\n",
       "        }    #T_2a4650a2_e3a1_11e8_b835_305a3ab905eerow1_col1 {\n",
       "            background-color:  green;\n",
       "             opacity:  0.6;\n",
       "        }    #T_2a4650a2_e3a1_11e8_b835_305a3ab905eerow1_col2 {\n",
       "            background-color:  red;\n",
       "             opacity:  0.6;\n",
       "        }    #T_2a4650a2_e3a1_11e8_b835_305a3ab905eerow2_col0 {\n",
       "            background-color:  blue;\n",
       "             opacity:  0.6;\n",
       "        }    #T_2a4650a2_e3a1_11e8_b835_305a3ab905eerow2_col1 {\n",
       "            background-color:  green;\n",
       "             opacity:  0.6;\n",
       "        }    #T_2a4650a2_e3a1_11e8_b835_305a3ab905eerow2_col2 {\n",
       "            background-color:  red;\n",
       "             opacity:  0.6;\n",
       "        }</style>  \n",
       "<table id=\"T_2a4650a2_e3a1_11e8_b835_305a3ab905ee\" > \n",
       "<thead>    <tr> \n",
       "        <th class=\"blank level0\" ></th> \n",
       "        <th class=\"col_heading level0 col0\" >b</th> \n",
       "        <th class=\"col_heading level0 col1\" >g</th> \n",
       "        <th class=\"col_heading level0 col2\" >r</th> \n",
       "    </tr></thead> \n",
       "<tbody>    <tr> \n",
       "        <th id=\"T_2a4650a2_e3a1_11e8_b835_305a3ab905eelevel0_row0\" class=\"row_heading level0 row0\" >CH</th> \n",
       "        <td id=\"T_2a4650a2_e3a1_11e8_b835_305a3ab905eerow0_col0\" class=\"data row0 col0\" >0</td> \n",
       "        <td id=\"T_2a4650a2_e3a1_11e8_b835_305a3ab905eerow0_col1\" class=\"data row0 col1\" >161</td> \n",
       "        <td id=\"T_2a4650a2_e3a1_11e8_b835_305a3ab905eerow0_col2\" class=\"data row0 col2\" >1</td> \n",
       "    </tr>    <tr> \n",
       "        <th id=\"T_2a4650a2_e3a1_11e8_b835_305a3ab905eelevel0_row1\" class=\"row_heading level0 row1\" >CU</th> \n",
       "        <td id=\"T_2a4650a2_e3a1_11e8_b835_305a3ab905eerow1_col0\" class=\"data row1 col0\" >301</td> \n",
       "        <td id=\"T_2a4650a2_e3a1_11e8_b835_305a3ab905eerow1_col1\" class=\"data row1 col1\" >0</td> \n",
       "        <td id=\"T_2a4650a2_e3a1_11e8_b835_305a3ab905eerow1_col2\" class=\"data row1 col2\" >0</td> \n",
       "    </tr>    <tr> \n",
       "        <th id=\"T_2a4650a2_e3a1_11e8_b835_305a3ab905eelevel0_row2\" class=\"row_heading level0 row2\" >FF</th> \n",
       "        <td id=\"T_2a4650a2_e3a1_11e8_b835_305a3ab905eerow2_col0\" class=\"data row2 col0\" >0</td> \n",
       "        <td id=\"T_2a4650a2_e3a1_11e8_b835_305a3ab905eerow2_col1\" class=\"data row2 col1\" >263</td> \n",
       "        <td id=\"T_2a4650a2_e3a1_11e8_b835_305a3ab905eerow2_col2\" class=\"data row2 col2\" >595</td> \n",
       "    </tr></tbody> \n",
       "</table> "
      ],
      "text/plain": [
       "<pandas.io.formats.style.Styler at 0x7f33c67d6a90>"
      ]
     },
     "execution_count": 8,
     "metadata": {},
     "output_type": "execute_result"
    }
   ],
   "source": [
    "from sklearn.metrics import confusion_matrix\n",
    "\n",
    "pitch = pd.read_csv('data_noah.csv', usecols=['pitch_type'])\n",
    "x = len(np.unique(pitch))\n",
    "label = np.append(np.unique(pitch), np.unique(df['color']))\n",
    "cfmx = pd.DataFrame(confusion_matrix(pitch, df['color']), index=label, columns= label)\n",
    "cfmx = cfmx.iloc[:x, x:]\n",
    "print(np.unique(pitch), np.unique(df['color']))\n",
    "\n",
    "col = {'r': 'red', 'g': 'green', 'b': 'blue', 'c': 'cyan', 'm': 'magenta', 'y': 'yellow'}\n",
    "def func(s):\n",
    "    return ['background-color: {}; opacity: 0.6'.format(col[s.name])]*len(s)\n",
    "\n",
    "cfmx.style.apply(func, axis=0)"
   ]
  },
  {
   "cell_type": "code",
   "execution_count": 9,
   "metadata": {},
   "outputs": [
    {
     "data": {
      "text/html": [
       "<div>\n",
       "<style scoped>\n",
       "    .dataframe tbody tr th:only-of-type {\n",
       "        vertical-align: middle;\n",
       "    }\n",
       "\n",
       "    .dataframe tbody tr th {\n",
       "        vertical-align: top;\n",
       "    }\n",
       "\n",
       "    .dataframe thead th {\n",
       "        text-align: right;\n",
       "    }\n",
       "</style>\n",
       "<table border=\"1\" class=\"dataframe\">\n",
       "  <thead>\n",
       "    <tr style=\"text-align: right;\">\n",
       "      <th></th>\n",
       "      <th>b</th>\n",
       "      <th>g</th>\n",
       "      <th>r</th>\n",
       "    </tr>\n",
       "  </thead>\n",
       "  <tbody>\n",
       "    <tr>\n",
       "      <th>CH</th>\n",
       "      <td>0</td>\n",
       "      <td>161</td>\n",
       "      <td>1</td>\n",
       "    </tr>\n",
       "    <tr>\n",
       "      <th>CU</th>\n",
       "      <td>301</td>\n",
       "      <td>0</td>\n",
       "      <td>0</td>\n",
       "    </tr>\n",
       "    <tr>\n",
       "      <th>FF</th>\n",
       "      <td>0</td>\n",
       "      <td>263</td>\n",
       "      <td>595</td>\n",
       "    </tr>\n",
       "  </tbody>\n",
       "</table>\n",
       "</div>"
      ],
      "text/plain": [
       "      b    g    r\n",
       "CH    0  161    1\n",
       "CU  301    0    0\n",
       "FF    0  263  595"
      ]
     },
     "execution_count": 9,
     "metadata": {},
     "output_type": "execute_result"
    }
   ],
   "source": [
    "cfmx"
   ]
  },
  {
   "cell_type": "code",
   "execution_count": 10,
   "metadata": {
    "scrolled": true
   },
   "outputs": [
    {
     "data": {
      "text/html": [
       "<div>\n",
       "<style scoped>\n",
       "    .dataframe tbody tr th:only-of-type {\n",
       "        vertical-align: middle;\n",
       "    }\n",
       "\n",
       "    .dataframe tbody tr th {\n",
       "        vertical-align: top;\n",
       "    }\n",
       "\n",
       "    .dataframe thead th {\n",
       "        text-align: right;\n",
       "    }\n",
       "</style>\n",
       "<table border=\"1\" class=\"dataframe\">\n",
       "  <thead>\n",
       "    <tr style=\"text-align: right;\">\n",
       "      <th></th>\n",
       "      <th>value</th>\n",
       "    </tr>\n",
       "  </thead>\n",
       "  <tbody>\n",
       "    <tr>\n",
       "      <th>accurate_points</th>\n",
       "      <td>595.000000</td>\n",
       "    </tr>\n",
       "    <tr>\n",
       "      <th>total_points</th>\n",
       "      <td>1321.000000</td>\n",
       "    </tr>\n",
       "    <tr>\n",
       "      <th>accuracy</th>\n",
       "      <td>0.450416</td>\n",
       "    </tr>\n",
       "  </tbody>\n",
       "</table>\n",
       "</div>"
      ],
      "text/plain": [
       "                       value\n",
       "accurate_points   595.000000\n",
       "total_points     1321.000000\n",
       "accuracy            0.450416"
      ]
     },
     "execution_count": 10,
     "metadata": {},
     "output_type": "execute_result"
    }
   ],
   "source": [
    "# accuracy of k=3 \n",
    "\n",
    "accurate_points = cfmx.loc['CH','b'] + cfmx.loc['CU','g'] + cfmx.loc['FF','r']\n",
    "#print(accurate_points)\n",
    "\n",
    "total_points = cfmx.sum().sum()\n",
    "#print(total_points)\n",
    "\n",
    "accuracy = accurate_points/total_points\n",
    "#print(accuracy)\n",
    "\n",
    "row_name = ['accurate_points', 'total_points', 'accuracy']\n",
    "\n",
    "pd.DataFrame([accurate_points,total_points,accuracy], columns=['value'], index=row_name)"
   ]
  },
  {
   "cell_type": "code",
   "execution_count": 38,
   "metadata": {},
   "outputs": [
    {
     "data": {
      "text/html": [
       "<div>\n",
       "<style scoped>\n",
       "    .dataframe tbody tr th:only-of-type {\n",
       "        vertical-align: middle;\n",
       "    }\n",
       "\n",
       "    .dataframe tbody tr th {\n",
       "        vertical-align: top;\n",
       "    }\n",
       "\n",
       "    .dataframe thead th {\n",
       "        text-align: right;\n",
       "    }\n",
       "</style>\n",
       "<table border=\"1\" class=\"dataframe\">\n",
       "  <thead>\n",
       "    <tr style=\"text-align: right;\">\n",
       "      <th></th>\n",
       "      <th>value</th>\n",
       "    </tr>\n",
       "  </thead>\n",
       "  <tbody>\n",
       "    <tr>\n",
       "      <th>accurate_points</th>\n",
       "      <td>1057.000000</td>\n",
       "    </tr>\n",
       "    <tr>\n",
       "      <th>total_points</th>\n",
       "      <td>1321.000000</td>\n",
       "    </tr>\n",
       "    <tr>\n",
       "      <th>accuracy</th>\n",
       "      <td>0.800151</td>\n",
       "    </tr>\n",
       "  </tbody>\n",
       "</table>\n",
       "</div>"
      ],
      "text/plain": [
       "                       value\n",
       "accurate_points  1057.000000\n",
       "total_points     1321.000000\n",
       "accuracy            0.800151"
      ]
     },
     "execution_count": 38,
     "metadata": {},
     "output_type": "execute_result"
    }
   ],
   "source": [
    "accurate_points = 0\n",
    "\n",
    "for row in cfmx.index:\n",
    "    color = np.where(cfmx.loc[row] == cfmx.loc[row].max())[0][0]\n",
    "    accurate_points = accurate_points + cfmx.loc[row][color]\n",
    "    \n",
    "#print(accurate_points)\n",
    "\n",
    "total_points = cfmx.sum().sum()\n",
    "#print(total_points)\n",
    "\n",
    "accuracy = accurate_points/total_points\n",
    "#print(accuracy)\n",
    "\n",
    "row_name = ['accurate_points', 'total_points', 'accuracy']\n",
    "\n",
    "pd.DataFrame([accurate_points,total_points,accuracy], columns=['value'], index=row_name)"
   ]
  },
  {
   "cell_type": "code",
   "execution_count": null,
   "metadata": {},
   "outputs": [],
   "source": []
  }
 ],
 "metadata": {
  "kernelspec": {
   "display_name": "Python 3",
   "language": "python",
   "name": "python3"
  },
  "language_info": {
   "codemirror_mode": {
    "name": "ipython",
    "version": 3
   },
   "file_extension": ".py",
   "mimetype": "text/x-python",
   "name": "python",
   "nbconvert_exporter": "python",
   "pygments_lexer": "ipython3",
   "version": "3.5.2"
  }
 },
 "nbformat": 4,
 "nbformat_minor": 2
}
