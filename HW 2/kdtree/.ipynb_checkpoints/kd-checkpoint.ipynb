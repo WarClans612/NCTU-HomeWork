{
 "cells": [
  {
   "cell_type": "markdown",
   "metadata": {},
   "source": [
    "## KD-Tree Implementation\n",
    "* We modifed the sample code from astroML, but we didn't use astroML's library\n",
    "* source: http://www.astroml.org/book_figures/chapter2/fig_kdtree_example.html"
   ]
  },
  {
   "cell_type": "code",
   "execution_count": 1,
   "metadata": {},
   "outputs": [],
   "source": [
    "import numpy as np\n",
    "from matplotlib import pyplot as plt\n",
    "\n",
    "# find nearest value\n",
    "def find_nearest(array,value):\n",
    "    idx = (np.abs(array-value)).argmin()\n",
    "    return array[idx]\n",
    "\n",
    "class KDTree:\n",
    "    \"\"\"Simple KD tree class\"\"\"\n",
    "\n",
    "    # class initialization function\n",
    "    def __init__(self, data, mins, maxs, prev):\n",
    "        self.data = np.asarray(data)\n",
    "\n",
    "        # data should be two-dimensional\n",
    "        #assert self.data.shape[1] == 2\n",
    "\n",
    "        if mins is None:\n",
    "            mins = data.min(0)\n",
    "        if maxs is None:\n",
    "            maxs = data.max(0)\n",
    "\n",
    "        self.mins = np.asarray(mins)\n",
    "        self.maxs = np.asarray(maxs)\n",
    "        self.sizes = self.maxs - self.mins\n",
    "        \n",
    "        self.prev = prev\n",
    "        self.leaf = False\n",
    "        \n",
    "        self.child1 = None\n",
    "        self.child2 = None\n",
    "\n",
    "        if len(data) > 0:\n",
    "            # sort on the dimension with the largest spread\n",
    "            largest_dim = self.prev\n",
    "            if self.prev == -1:\n",
    "                largest_dim = np.argmax(self.sizes)\n",
    "            else:\n",
    "                largest_dim = (largest_dim+1)%2\n",
    "            i_sort = np.argsort(self.data[:, largest_dim])\n",
    "            self.data[:] = self.data[i_sort, :]\n",
    "            #print(\"data: \\n\", self.data)\n",
    "            \n",
    "            # find split point\n",
    "            N = self.data.shape[0]\n",
    "            \n",
    "            if N == 1:\n",
    "                split_point = self.data[:, largest_dim]\n",
    "                mins1 = self.mins.copy()\n",
    "                mins1[largest_dim] = split_point\n",
    "                maxs2 = self.maxs.copy()\n",
    "                maxs2[largest_dim] = split_point\n",
    "                self.leaf = True\n",
    "                self.child1 = KDTree([], mins1, self.maxs, largest_dim)\n",
    "                self.child2 = KDTree([], self.mins, maxs2, largest_dim)\n",
    "                #print(\"mins1, self.maxs: \", mins1, self.maxs)\n",
    "                #print(\"self.mins, maxs2: \", self.mins, maxs2)\n",
    "                #print(\"-------\")\n",
    "            else:\n",
    "                split_point = np.median(self.data[:, largest_dim])\n",
    "                split_point = find_nearest(self.data[:, largest_dim], split_point+0.1)\n",
    "                #print(\"split_point: \", split_point)\n",
    "                idx = np.where(self.data[:, largest_dim] == split_point)[0][0]\n",
    "                #print('idx= ', idx)\n",
    "                \n",
    "                # create subnodes\n",
    "                mins1 = self.mins.copy()\n",
    "                mins1[largest_dim] = split_point\n",
    "                maxs2 = self.maxs.copy()\n",
    "                maxs2[largest_dim] = split_point\n",
    "                #print(\"mins1, self.maxs: \", mins1, self.maxs)\n",
    "                #print(\"self.mins, maxs2: \", self.mins, maxs2)\n",
    "                #print(\"-------\")\n",
    "                # Recursively build a KD-tree on each sub-node\n",
    "                self.child1 = KDTree(self.data[idx+1:], mins1, self.maxs, largest_dim)\n",
    "                self.child2 = KDTree(self.data[:idx], self.mins, maxs2, largest_dim)\n",
    "\n",
    "    def draw_rectangle(self, ax, depth=None):\n",
    "        \"\"\"Recursively plot a visualization of the KD tree region\"\"\"\n",
    "        if depth <= 1:\n",
    "            #print('self.mins, *size: ', self.mins,  *self.sizes)\n",
    "            #print()\n",
    "            rect = plt.Rectangle(self.mins, *self.sizes, ec='r', fc='none')\n",
    "            ax.add_patch(rect)\n",
    "            pass\n",
    "\n",
    "        if self.child2 is not None:\n",
    "            if depth is None:\n",
    "                self.child1.draw_rectangle(ax)\n",
    "                self.child2.draw_rectangle(ax)\n",
    "            elif depth > 0:\n",
    "                self.child1.draw_rectangle(ax, depth - 1)\n",
    "                self.child2.draw_rectangle(ax, depth - 1)\n",
    "                \n",
    "    def depth(self):\n",
    "        current_depth = 0\n",
    "\n",
    "        if self.child2:\n",
    "            current_depth = max(current_depth, self.child2.depth())\n",
    "\n",
    "        if self.child1:\n",
    "            current_depth = max(current_depth, self.child1.depth())\n",
    "\n",
    "        return current_depth + 1"
   ]
  },
  {
   "cell_type": "code",
   "execution_count": 2,
   "metadata": {},
   "outputs": [],
   "source": [
    "import pandas as pd\n",
    "head = ['x', 'y']\n",
    "points = pd.read_csv('points.txt', sep=' ', header=None, names=head).values"
   ]
  },
  {
   "cell_type": "code",
   "execution_count": 3,
   "metadata": {},
   "outputs": [],
   "source": [
    "# Use our KD Tree class to recursively divide the space\n",
    "KDT = KDTree(points, [-2, -2], [10, 10], -1)"
   ]
  },
  {
   "cell_type": "code",
   "execution_count": 4,
   "metadata": {},
   "outputs": [
    {
     "data": {
      "image/png": "[encoded data removed]",
      "text/plain": [
       "<Figure size 864x864 with 5 Axes>"
      ]
     },
     "metadata": {
      "needs_background": "light"
     },
     "output_type": "display_data"
    }
   ],
   "source": [
    "# Plot four different levels of the KD tree\n",
    "fig = plt.figure(figsize=(12, 12))\n",
    "fig.subplots_adjust()\n",
    "\n",
    "for level in range(1, KDT.depth()+1):\n",
    "    ax = fig.add_subplot(3, 3, level, xticks=np.arange(12, step=2), yticks=np.arange(12, step=2))\n",
    "    ax.scatter(points[:, 0], points[:, 1])\n",
    "    KDT.draw_rectangle(ax, depth=level - 1)\n",
    "    ax.set_xlim(-2, 10)\n",
    "    ax.set_ylim(-2, 10)\n",
    "    ax.set_title('level %i' % (level-1))\n",
    "\n",
    "# suptitle() adds a title to the entire figure\n",
    "fig.suptitle('KD-tree Result')\n",
    "plt.show()\n"
   ]
  },
  {
   "cell_type": "code",
   "execution_count": 5,
   "metadata": {},
   "outputs": [
    {
     "data": {
      "image/png": "[encoded data removed]",
      "text/plain": [
       "<Figure size 432x432 with 1 Axes>"
      ]
     },
     "metadata": {
      "needs_background": "light"
     },
     "output_type": "display_data"
    }
   ],
   "source": [
    "# Final Result\n",
    "fig = plt.figure(figsize=(6, 6))\n",
    "\n",
    "for level in range(1, 2):\n",
    "    ax = fig.add_subplot(1, 1, level, xticks=np.arange(12, step=2), yticks=np.arange(12, step=2))\n",
    "    ax.scatter(points[:, 0], points[:, 1])\n",
    "    KDT.draw_rectangle(ax, depth=KDT.depth()-1)\n",
    "    ax.set_xlim(-2, 10)\n",
    "    ax.set_ylim(-2, 10)\n",
    "\n",
    "# suptitle() adds a title to the entire figure\n",
    "fig.suptitle('KD-tree Result')\n",
    "plt.show()\n"
   ]
  },
  {
   "cell_type": "markdown",
   "metadata": {},
   "source": [
    "## KD-Tree Visualization\n",
    "* Use another kdtree package\n",
    "* source: https://github.com/stefankoegl/kdtree"
   ]
  },
  {
   "cell_type": "code",
   "execution_count": 6,
   "metadata": {},
   "outputs": [
    {
     "name": "stdout",
     "output_type": "stream",
     "text": [
      "\n",
      "\n",
      "                                           [4, 2]                                      \n",
      "\n",
      "                       [1, 3]                                   [6, 3]                  \n",
      "\n",
      "             [2, 1]               [3, 4]               [7, 1]               [5, 5]        \n",
      "\n",
      "        [0, 2]                [0, 5]                [6, 0]                                    \n",
      "\n"
     ]
    }
   ],
   "source": [
    "import kdtree\n",
    "#import pandas as pd\n",
    "#points = pd.read_csv('points', sep=' ', header=None, names=head).values\n",
    "tree = kdtree.create(points.tolist())\n",
    "kdtree.visualize(tree)"
   ]
  },
  {
   "cell_type": "code",
   "execution_count": null,
   "metadata": {},
   "outputs": [],
   "source": []
  }
 ],
 "metadata": {
  "kernelspec": {
   "display_name": "Python 3",
   "language": "python",
   "name": "python3"
  },
  "language_info": {
   "codemirror_mode": {
    "name": "ipython",
    "version": 3
   },
   "file_extension": ".py",
   "mimetype": "text/x-python",
   "name": "python",
   "nbconvert_exporter": "python",
   "pygments_lexer": "ipython3",
   "version": "3.5.2"
  }
 },
 "nbformat": 4,
 "nbformat_minor": 2
}
