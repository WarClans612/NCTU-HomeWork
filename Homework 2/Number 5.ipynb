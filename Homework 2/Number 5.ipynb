{
 "cells": [
  {
   "cell_type": "code",
   "execution_count": 1,
   "metadata": {},
   "outputs": [],
   "source": [
    "import numpy as np"
   ]
  },
  {
   "cell_type": "code",
   "execution_count": 2,
   "metadata": {},
   "outputs": [],
   "source": [
    "#######################################################\n",
    "# Initialization\n",
    "#######################################################\n",
    "MAX_GENERATION = 10000000\n",
    "MIN_OBJECTIVE = 0.005\n",
    "SIGMA = [0.01, 0.1, 1.0]\n",
    "SIGMA_BOUNDARY = 0.01\n",
    "x = np.ones(10)"
   ]
  },
  {
   "cell_type": "code",
   "execution_count": 3,
   "metadata": {},
   "outputs": [],
   "source": [
    "def objective_func(x):\n",
    "    return np.sum(np.square(x))"
   ]
  },
  {
   "cell_type": "code",
   "execution_count": 4,
   "metadata": {},
   "outputs": [],
   "source": [
    "#######################################################\n",
    "# (1+1)-ES with fixed step-sizes for Gaussian Mutation\n",
    "#######################################################\n",
    "def one_plus_one(x_start, start_sigma):\n",
    "    x_current = x_start\n",
    "    sigma = np.full(x_current.shape[0], start_sigma)\n",
    "    tau_individual = 0.1/np.sqrt(2 * np.sqrt(x_current.shape[0]))\n",
    "    tau_global = 0.1/np.sqrt(2 * x_current.shape[0])\n",
    "    for generation in range(MAX_GENERATION):\n",
    "        z_global = tau_global * np.random.normal(0, 1, 1)\n",
    "        z_global = np.full(x_current.shape[0], np.squeeze(z_global))\n",
    "        z = tau_individual * np.random.normal(0, 1, x_current.shape[0])\n",
    "        sigma = sigma * np.minimum(1, np.exp(z_global + z))\n",
    "        sigma = np.maximum(sigma, SIGMA_BOUNDARY)\n",
    "        y = x_current + sigma * np.random.normal(0, 1, x_current.shape[0])\n",
    "        \n",
    "        if objective_func(x_current) >= objective_func(y):\n",
    "            x_current = y\n",
    "            \n",
    "        if objective_func(x_current) <= MIN_OBJECTIVE:\n",
    "            return generation + 1\n",
    "    return MAX_GENERATION"
   ]
  },
  {
   "cell_type": "code",
   "execution_count": 5,
   "metadata": {},
   "outputs": [],
   "source": [
    "#######################################################\n",
    "# (1,1)-ES with fixed step-sizes for Gaussian Mutation\n",
    "#######################################################\n",
    "def one_comma_one(x_start, start_sigma):\n",
    "    x_current = x_start\n",
    "    sigma = np.full(x_current.shape[0], start_sigma)\n",
    "    tau_individual = 0.1/np.sqrt(2 * np.sqrt(x_current.shape[0]))\n",
    "    tau_global = 0.1/np.sqrt(2 * x_current.shape[0]) \n",
    "    for generation in range(MAX_GENERATION):\n",
    "        z_global = tau_global * np.random.normal(0, 1, 1)\n",
    "        z_global = np.full(x_current.shape[0], np.squeeze(z_global))\n",
    "        z = tau_individual * np.random.normal(0, 1, x_current.shape[0])\n",
    "        sigma = sigma * np.minimum(1, np.exp(z_global + z))\n",
    "        sigma = np.maximum(sigma, SIGMA_BOUNDARY)\n",
    "        y = x_current + sigma * np.random.normal(0, 1, x_current.shape[0])\n",
    "        \n",
    "        x_current = y\n",
    "        \n",
    "        if objective_func(x_current) <= MIN_OBJECTIVE:\n",
    "            return generation + 1\n",
    "    return MAX_GENERATION"
   ]
  },
  {
   "cell_type": "code",
   "execution_count": 6,
   "metadata": {},
   "outputs": [
    {
     "name": "stdout",
     "output_type": "stream",
     "text": [
      "(1+1)-ES with sigma value of: 0.01\n",
      "Average generation: [854, 894, 807, 854, 848, 906, 889, 891, 862, 866]\n",
      "(1+1)-ES with sigma value of: 0.1\n",
      "Average generation: [434, 539, 493, 420, 594, 456, 616, 564, 681, 513]\n",
      "(1+1)-ES with sigma value of: 1.0\n",
      "Average generation: [308, 274, 216, 265, 279, 241, 202, 283, 221, 231]\n",
      "(1,1)-ES with sigma value of: 0.01\n",
      "Average generation: [10000000, 10000000, 10000000, 10000000, 10000000, 10000000, 10000000, 10000000, 10000000, 10000000]\n",
      "(1,1)-ES with sigma value of: 0.1\n",
      "Average generation: [10000000, 10000000, 10000000, 10000000, 10000000, 10000000, 10000000, 10000000, 10000000, 10000000]\n",
      "(1,1)-ES with sigma value of: 1.0\n",
      "Average generation: [10000000, 10000000, 10000000, 10000000, 10000000, 10000000, 10000000, 10000000, 10000000, 10000000]\n"
     ]
    }
   ],
   "source": [
    "if __name__ == '__main__':\n",
    "    for val in SIGMA:\n",
    "        opo = []\n",
    "        print('(1+1)-ES with sigma value of:', val)\n",
    "        for i in range(10):\n",
    "            opo.append(one_plus_one(x, val))\n",
    "        print('Average generation:', opo)\n",
    "        \n",
    "    for val in SIGMA:\n",
    "        oco = []\n",
    "        print('(1,1)-ES with sigma value of:', val)\n",
    "        for i in range(10):\n",
    "            oco.append(one_comma_one(x, val))\n",
    "        print('Average generation:', oco)"
   ]
  }
 ],
 "metadata": {
  "kernelspec": {
   "display_name": "Python 3",
   "language": "python",
   "name": "python3"
  },
  "language_info": {
   "codemirror_mode": {
    "name": "ipython",
    "version": 3
   },
   "file_extension": ".py",
   "mimetype": "text/x-python",
   "name": "python",
   "nbconvert_exporter": "python",
   "pygments_lexer": "ipython3",
   "version": "3.7.2"
  }
 },
 "nbformat": 4,
 "nbformat_minor": 2
}
