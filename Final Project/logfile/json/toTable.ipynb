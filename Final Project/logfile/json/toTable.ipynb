{
 "cells": [
  {
   "cell_type": "markdown",
   "metadata": {},
   "source": [
    "# json to csv\n",
    "* \"**\\$WORKDIR**\" is our working direction\n",
    "* This script should run in \"**\\$WORKDIR/logfile/json/**\"\n",
    "* Transfer \"**\\$WORKDIR/logfile/json/*.json**\" to \"**\\$WORKDIR/logfile/table/*.csv**\""
   ]
  },
  {
   "cell_type": "code",
   "execution_count": 17,
   "metadata": {},
   "outputs": [],
   "source": [
    "import json\n",
    "import pandas as pd\n",
    "from pandas.io.json import json_normalize\n",
    "f = open('2018-12-08-0309.json','r')\n",
    "r = json.loads(f.read())"
   ]
  },
  {
   "cell_type": "code",
   "execution_count": 18,
   "metadata": {},
   "outputs": [],
   "source": [
    "# Insert first table to tables(DataFrame)\n",
    "tables = json_normalize(r['feeds'])\n",
    "#tables.to_csv('../table/2018-12-08-0309.csv', sep=',')\n",
    "#tables"
   ]
  },
  {
   "cell_type": "code",
   "execution_count": 19,
   "metadata": {},
   "outputs": [],
   "source": [
    "# list all processed table \n",
    "processedList = !(ls ../table/*.csv)\n",
    "for i, c in enumerate(processedList):\n",
    "    processedList[i] = c.split('/')[-1].split('.')[0]\n",
    "#print('processed json:\\n')\n",
    "#print(processedList.nlstr)\n",
    "#print('-'*20)"
   ]
  },
  {
   "cell_type": "code",
   "execution_count": 20,
   "metadata": {},
   "outputs": [
    {
     "name": "stdout",
     "output_type": "stream",
     "text": [
      "all json:\n",
      "\n",
      "2018-12-08-0309.json\n",
      "2018-12-08-0340.json\n",
      "2018-12-08-0345.json\n",
      "2018-12-08-0350.json\n",
      "2018-12-08-0355.json\n",
      "2018-12-08-0400.json\n",
      "2018-12-08-0405.json\n",
      "2018-12-08-0410.json\n",
      "2018-12-08-0415.json\n",
      "2018-12-08-0420.json\n",
      "2018-12-08-0425.json\n",
      "2018-12-08-0430.json\n",
      "2018-12-08-0435.json\n",
      "2018-12-08-0440.json\n",
      "2018-12-08-0445.json\n",
      "2018-12-08-0450.json\n",
      "2018-12-08-0455.json\n",
      "2018-12-08-0500.json\n",
      "2018-12-08-0505.json\n",
      "2018-12-08-0510.json\n",
      "2018-12-08-0515.json\n",
      "--------------------\n"
     ]
    }
   ],
   "source": [
    "# list all json files in current directory\n",
    "jsonList = !(ls *.json)\n",
    "print('all json:\\n')\n",
    "print(jsonList.nlstr)\n",
    "print('-'*20)"
   ]
  },
  {
   "cell_type": "code",
   "execution_count": 21,
   "metadata": {},
   "outputs": [
    {
     "name": "stdout",
     "output_type": "stream",
     "text": [
      "not processed yet:\n",
      "\n",
      "2018-12-08-0515.json\n",
      "--------------------\n"
     ]
    }
   ],
   "source": [
    "# list not processed json files\n",
    "print('not processed yet:\\n')\n",
    "for filename in jsonList[1:]:\n",
    "    if (filename[:-5]) not in processedList:\n",
    "        print(filename)\n",
    "print('-'*20)"
   ]
  },
  {
   "cell_type": "code",
   "execution_count": 22,
   "metadata": {},
   "outputs": [],
   "source": [
    "# Transfer json to csv \n",
    "for filename in jsonList[1:]: \n",
    "    #print(filename[:-5])\n",
    "    if (filename[:-5]) in processedList:\n",
    "        pass\n",
    "    else:\n",
    "        # Open json file\n",
    "        file = open(filename, 'r')\n",
    "        r = json.loads(file.read())\n",
    "        processedName = '../table/' + filename[:-5] + '.csv'\n",
    "        \n",
    "        # put json into pd.DataFrame\n",
    "        table = json_normalize(r['feeds'])\n",
    "        \n",
    "        # write DataFrame to csv\n",
    "        table.to_csv(processedName, sep=',')\n",
    "        \n",
    "        tables = pd.concat([tables, table])"
   ]
  },
  {
   "cell_type": "code",
   "execution_count": 23,
   "metadata": {},
   "outputs": [
    {
     "name": "stdout",
     "output_type": "stream",
     "text": [
      "(After) not processed yet:\n",
      "\n",
      "--------------------\n"
     ]
    }
   ],
   "source": [
    "# Check result\n",
    "\n",
    "# Refresh processedList\n",
    "processedList = !(ls ../table/*.csv)\n",
    "for i, c in enumerate(processedList):\n",
    "    processedList[i] = c.split('/')[-1].split('.')[0]\n",
    "\n",
    "# list not processed json files\n",
    "print('(After) not processed yet:\\n')\n",
    "for filename in jsonList[1:]:\n",
    "    if (filename[:-5]) not in processedList:\n",
    "        print(filename)\n",
    "print('-'*20)"
   ]
  },
  {
   "cell_type": "code",
   "execution_count": null,
   "metadata": {},
   "outputs": [],
   "source": []
  }
 ],
 "metadata": {
  "kernelspec": {
   "display_name": "Python 3",
   "language": "python",
   "name": "python3"
  },
  "language_info": {
   "codemirror_mode": {
    "name": "ipython",
    "version": 3
   },
   "file_extension": ".py",
   "mimetype": "text/x-python",
   "name": "python",
   "nbconvert_exporter": "python",
   "pygments_lexer": "ipython3",
   "version": "3.5.2"
  }
 },
 "nbformat": 4,
 "nbformat_minor": 2
}
