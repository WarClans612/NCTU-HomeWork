{
 "cells": [
  {
   "cell_type": "code",
   "execution_count": 1,
   "metadata": {},
   "outputs": [],
   "source": [
    "# Package imports\n",
    "import numpy as np\n",
    "import matplotlib.pyplot as plt\n",
    "\n",
    "%matplotlib inline\n",
    "\n",
    "np.random.seed(1) # set a seed so that the results are consistent over iterations"
   ]
  },
  {
   "cell_type": "code",
   "execution_count": 2,
   "metadata": {},
   "outputs": [
    {
     "name": "stdout",
     "output_type": "stream",
     "text": [
      "X_train [[ 3.          1.          3.         ...  3.          3.\n",
      "   3.        ]\n",
      " [ 1.          0.          0.         ...  0.          1.\n",
      "   0.        ]\n",
      " [22.         38.         26.         ... 31.         30.\n",
      "  30.        ]\n",
      " [ 1.          1.          0.         ...  0.          0.\n",
      "   1.        ]\n",
      " [ 0.          0.          0.         ...  0.          0.\n",
      "   1.        ]\n",
      " [-0.5008189   0.74272153 -0.48771025 ... -0.4729839  -0.50122284\n",
      "  -0.17261727]] (6, 800)\n",
      "Y_train [[0. 1. 1. ... 1. 0. 0.]\n",
      " [1. 0. 0. ... 0. 1. 1.]] (2, 800)\n"
     ]
    }
   ],
   "source": [
    "from numpy import genfromtxt\n",
    "from math import exp\n",
    "\n",
    "my_data = genfromtxt('titanic.csv', delimiter=',', skip_header=1)\n",
    "#print('My Data', my_data)\n",
    "\n",
    "X_train = my_data[:800,1:].T\n",
    "X_train[5,:] = (X_train[5,:]-np.mean(X_train[5,:])) / np.std(X_train[5,:])\n",
    "print('X_train', X_train, X_train.shape)\n",
    "Y_train = my_data[:800,0]\n",
    "Y_train = np.append(Y_train, 1-Y_train).reshape((2, -1))\n",
    "print('Y_train', Y_train, Y_train.shape)\n",
    "\n",
    "X_test = my_data[800:,1:].T\n",
    "X_test[5,:] = (X_test[5,:]-np.mean(X_train[5,:])) / np.std(X_train[5,:])\n",
    "#print('X_test', X_test, X_test.shape)\n",
    "Y_test = my_data[800:,0]\n",
    "Y_test = np.append(Y_test, 1-Y_test).reshape((2, -1))\n",
    "#print('Y_test', Y_test, Y_test.shape)"
   ]
  },
  {
   "cell_type": "markdown",
   "metadata": {},
   "source": [
    "### 4.1 - Defining the neural network structure ####\n",
    "    - n_x: the size of the input layer\n",
    "    - n_h: the size of the hidden layer\n",
    "    - n_y: the size of the output layer"
   ]
  },
  {
   "cell_type": "code",
   "execution_count": 3,
   "metadata": {},
   "outputs": [],
   "source": [
    "# initialize_parameters\n",
    "\n",
    "def initialize_parameters(layer):\n",
    "    \"\"\"\n",
    "    Argument:\n",
    "    layer -- array size of the each layer\n",
    "            starts with input and end with output\n",
    "    \n",
    "    Returns:\n",
    "    params -- python dictionary containing your parameters:\n",
    "                    W1 -- weight matrix of shape (n_h, n_x)\n",
    "                    b1 -- bias vector of shape (n_h, 1)\n",
    "                    W2 -- weight matrix of shape (n_y, n_h)\n",
    "                    b2 -- bias vector of shape (n_y, 1)\n",
    "    \"\"\"\n",
    "    parameters = {}\n",
    "    for index in range(1, len(layer)):\n",
    "        prev_layer = layer[index-1]\n",
    "        curr_layer = layer[index]\n",
    "        parameters['W' + str(index)] = np.random.randn(curr_layer, prev_layer) * 0.01\n",
    "        parameters['b' + str(index)] = np.zeros(shape=(curr_layer, 1))\n",
    "        parameters['lrW' + str(index)] = np.zeros((curr_layer, prev_layer))\n",
    "        parameters['lrb' + str(index)] = np.zeros((curr_layer, 1))\n",
    "    parameters['depth'] = len(layer)\n",
    "        \n",
    "    return parameters"
   ]
  },
  {
   "cell_type": "code",
   "execution_count": 4,
   "metadata": {},
   "outputs": [],
   "source": [
    "def sigmoid(x):\n",
    "    return 1/(1+np.exp(-x))"
   ]
  },
  {
   "cell_type": "code",
   "execution_count": 5,
   "metadata": {},
   "outputs": [],
   "source": [
    "#forward_propagation\n",
    "\n",
    "def forward_propagation(X, parameters):\n",
    "    \"\"\"\n",
    "    Argument:\n",
    "    X -- input data of size (n_x, m)\n",
    "    parameters -- python dictionary containing your parameters (output of initialization function)\n",
    "    \n",
    "    Returns:\n",
    "    A2 -- The sigmoid output of the second activation\n",
    "    cache -- a dictionary containing \"Z1\", \"A1\", \"Z2\" and \"A2\"\n",
    "    \"\"\"\n",
    "    cache = {}\n",
    "    A_before = X\n",
    "    for index in range(1, parameters['depth']-1):\n",
    "        weight = parameters['W' + str(index)]\n",
    "        bias = parameters['b' + str(index)]\n",
    "        Z_cache = np.dot(weight, A_before) + bias\n",
    "        A_cache = np.tanh(Z_cache)\n",
    "        cache['Z' + str(index)] = Z_cache\n",
    "        cache['A' + str(index)] = A_cache\n",
    "        A_before = A_cache\n",
    "        \n",
    "    weight = parameters['W' + str(parameters['depth']-1)]\n",
    "    bias = parameters['b' + str(parameters['depth']-1)]\n",
    "    Z_cache = np.dot(weight, A_before) + bias\n",
    "    A_cache = sigmoid(Z_cache)\n",
    "    cache['Z' + str(parameters['depth']-1)] = Z_cache\n",
    "    cache['A' + str(parameters['depth']-1)] = A_cache\n",
    "    \n",
    "    return A_cache, cache"
   ]
  },
  {
   "cell_type": "code",
   "execution_count": 6,
   "metadata": {},
   "outputs": [],
   "source": [
    "# Gcompute_cost\n",
    "\n",
    "def compute_cost(A_last, Y, parameters):\n",
    "    \"\"\"\n",
    "    \n",
    "    Arguments:\n",
    "    A_last -- The sigmoid output of the second activation, of shape (1, number of examples)\n",
    "    Y -- \"true\" labels vector of shape (1, number of examples)\n",
    "    parameters -- python dictionary containing your parameters W1, b1, W2 and b2\n",
    "    \n",
    "    Returns:\n",
    "    cost -- cross-entropy cost given equation (13)\n",
    "    \"\"\"\n",
    "    \n",
    "    m = Y.shape[1] # number of example\n",
    "\n",
    "    # Compute the cross-entropy cost\n",
    "    logprobs = np.multiply(np.log(A_last), Y) + np.multiply((1 - Y), np.log(1 - A_last))\n",
    "    cost = - np.sum(logprobs) / m    \n",
    "    \n",
    "    cost = np.squeeze(cost)     # makes sure cost is the dimension we expect. \n",
    "                                # E.g., turns [[17]] into 17 \n",
    "    \n",
    "    return cost"
   ]
  },
  {
   "cell_type": "code",
   "execution_count": 7,
   "metadata": {},
   "outputs": [],
   "source": [
    "# backward_propagation\n",
    "\n",
    "def backward_propagation(parameters, cache, X, Y):\n",
    "    \"\"\"\n",
    "    Implement the backward propagation using the instructions above.\n",
    "    \n",
    "    Arguments:\n",
    "    parameters -- python dictionary containing our parameters \n",
    "    cache -- a dictionary containing \"Z1\", \"A1\", \"Z2\" and \"A2\".\n",
    "    X -- input data of shape (2, number of examples)\n",
    "    Y -- \"true\" labels vector of shape (1, number of examples)\n",
    "    \n",
    "    Returns:\n",
    "    grads -- python dictionary containing your gradients with respect to different parameters\n",
    "    \"\"\"\n",
    "    m = X.shape[1]\n",
    "    \n",
    "    # Backward propagation: calculate dW1, db1, dW2, db2.\n",
    "    grads = {}\n",
    "    curr_index = parameters['depth']-1\n",
    "    dZ_curr = cache['A' + str(curr_index)] - Y\n",
    "    dZ_before = dZ_curr\n",
    "    A_before = cache['A' + str(curr_index-1)]\n",
    "    grads['dW' + str(curr_index)] = (1/m) * np.dot(dZ_curr, A_before.T)\n",
    "    grads['db' + str(curr_index)] = (1/m) * np.sum(dZ_curr, axis=1, keepdims=True)\n",
    "    for index in reversed(range(1, parameters['depth']-1)):\n",
    "        A_curr = cache['A' + str(index)]\n",
    "        dZ_curr = np.multiply(np.dot(parameters['W' + str(index + 1)].T, dZ_before), 1 - np.power(A_curr, 2))\n",
    "        dZ_before = dZ_curr\n",
    "        A_before = cache['A' + str(index-1)] if index > 1 else X\n",
    "        grads['dW' + str(index)] = (1/m) * np.dot(dZ_curr, A_before.T)\n",
    "        grads['db' + str(index)] = (1/m) * np.sum(dZ_curr, axis = 1, keepdims=True)\n",
    "    \n",
    "    return grads"
   ]
  },
  {
   "cell_type": "code",
   "execution_count": 8,
   "metadata": {},
   "outputs": [],
   "source": [
    "# update_parameters\n",
    "\n",
    "\n",
    "def update_parameters(parameters, grads, learning_rate = 0.1):\n",
    "    \"\"\"\n",
    "    Updates parameters using the gradient descent update rule given above\n",
    "    \n",
    "    Arguments:\n",
    "    parameters -- python dictionary containing your parameters \n",
    "    grads -- python dictionary containing your gradients \n",
    "    \n",
    "    Returns:\n",
    "    parameters -- python dictionary containing your updated parameters \n",
    "    \"\"\"\n",
    "    \n",
    "    # Update rule for each parameter\n",
    "    for index in range(1, parameters['depth']):\n",
    "        #print(grads['dW' + str(index)])\n",
    "        parameters['W' + str(index)] = parameters['W' + str(index)] - learning_rate * grads['dW' + str(index)]\n",
    "        parameters['b' + str(index)] = parameters['b' + str(index)] - learning_rate * grads['db' + str(index)]\n",
    "    \n",
    "    return parameters"
   ]
  },
  {
   "cell_type": "code",
   "execution_count": 9,
   "metadata": {},
   "outputs": [],
   "source": [
    "def next_batch(X_complete, Y_complete, mini_batch):\n",
    "    \"\"\"\n",
    "    Arguments:\n",
    "    X_complete -- the complete dataset of X\n",
    "    Y_complete -- the complete dataset of Y\n",
    "    mini_batch -- integer that represent the mini batch size\n",
    "    \"\"\"\n",
    "    current_batch = 0\n",
    "    while current_batch * mini_batch < X_complete.shape[1]:\n",
    "        lower = current_batch * mini_batch\n",
    "        upper = (current_batch+1) * mini_batch\n",
    "        current_batch += 1\n",
    "        yield X_complete[:,lower:upper], Y_complete[:,lower:upper]"
   ]
  },
  {
   "cell_type": "markdown",
   "metadata": {},
   "source": [
    "###  Combine all the above into a  nn_model() funcction ####"
   ]
  },
  {
   "cell_type": "code",
   "execution_count": 10,
   "metadata": {},
   "outputs": [],
   "source": [
    "# nn_model\n",
    "\n",
    "def nn_model(X_train, Y_train, n_h, num_iterations = 10000, learning_rate = 0.1, mini_batch = 32, print_cost=False):\n",
    "    \"\"\"\n",
    "    Arguments:\n",
    "    X -- dataset of shape (2, number of examples)\n",
    "    Y -- labels of shape (1, number of examples)\n",
    "    n_h -- size of the hidden layer\n",
    "    num_iterations -- Number of iterations in gradient descent loop\n",
    "    print_cost -- if True, print the cost every 1000 iterations\n",
    "    \n",
    "    Returns:\n",
    "    parameters -- parameters learnt by the model. They can then be used to predict.\n",
    "    \"\"\"\n",
    "    \n",
    "    np.random.seed(3)\n",
    "    n_x = X_train.shape[0] # size of input layer\n",
    "    n_y = Y_train.shape[0] # size of output layer\n",
    "    \n",
    "    # Initialize parameters, then retrieve W1, b1, W2, b2. Inputs: \"n_x, n_h, n_y\". Outputs = \"W1, b1, W2, b2, parameters\".\n",
    "    parameters = initialize_parameters([n_x, *n_h, n_y])\n",
    "    \n",
    "    # Loop (gradient descent)\n",
    "    train_error = []\n",
    "    test_error = []\n",
    "    train_lost = []\n",
    "\n",
    "    for i in range(0, num_iterations):\n",
    "        \n",
    "        for X, Y in next_batch(X_train, Y_train, mini_batch):\n",
    "\n",
    "            # Forward propagation. Inputs: \"X, parameters\". Outputs: \"A2, cache\".\n",
    "            output, cache = forward_propagation(X, parameters)\n",
    "\n",
    "            # Cost function. Inputs: \"A2, Y, parameters\". Outputs: \"cost\".\n",
    "            cost = compute_cost(output, Y, parameters)\n",
    "\n",
    "            # Backpropagation. Inputs: \"parameters, cache, X, Y\". Outputs: \"grads\".\n",
    "            grads = backward_propagation(parameters, cache, X, Y)\n",
    "\n",
    "            # Gradient descent parameter update. Inputs: \"parameters, grads\". Outputs: \"parameters\".\n",
    "            parameters = update_parameters(parameters, grads, learning_rate)\n",
    "\n",
    "        # Print the cost every 1000 iterations\n",
    "        if print_cost and i % 1000 == 0:\n",
    "            print (\"Cost after iteration %i %f lr: %f\" %(i, learning_rate, cost))\n",
    "         \n",
    "        if i % 50 == 0:\n",
    "            train_lost.append(cost)\n",
    "        \n",
    "            predictions = predict(parameters, X_train)\n",
    "            accuracy = np.sum(predictions.T == Y_train.T) / 2 / Y_train.shape[1]\n",
    "            train_error.append(1-accuracy)\n",
    "\n",
    "            predictions = predict(parameters, X_test)\n",
    "            accuracy = np.sum(predictions.T == Y_test.T) / 2 / Y_test.shape[1]\n",
    "            test_error.append(1-accuracy)\n",
    "        \n",
    "    plt.figure(figsize=(5,5))\n",
    "    plt.title('Training Lost', fontsize=20)\n",
    "    plt.xlabel('Number of epochs', fontsize=12)\n",
    "    plt.ylabel('Average cross entropy', fontsize=12)\n",
    "    x_loc = list(i for i in range(0, num_iterations, 50))\n",
    "    y_loc = train_lost\n",
    "    plt.plot(x_loc, y_loc)\n",
    "    plt.show()\n",
    "    \n",
    "    plt.figure(figsize=(5,5))\n",
    "    plt.title('Training Error Rate', fontsize=20)\n",
    "    plt.xlabel('Number of epochs', fontsize=12)\n",
    "    plt.ylabel('Error Rate', fontsize=12)\n",
    "    x_loc = list(i for i in range(0, num_iterations, 50))\n",
    "    y_loc = train_error\n",
    "    plt.plot(x_loc, y_loc)\n",
    "    plt.show()\n",
    "    \n",
    "    plt.figure(figsize=(5,5))\n",
    "    plt.title('Test Error', fontsize=20)\n",
    "    plt.xlabel('Number of epochs', fontsize=12)\n",
    "    plt.ylabel('Error Rate', fontsize=12)\n",
    "    x_loc = list(i for i in range(0, num_iterations, 50))\n",
    "    y_loc = test_error\n",
    "    plt.plot(x_loc, y_loc)\n",
    "    plt.show()\n",
    "\n",
    "    return parameters"
   ]
  },
  {
   "cell_type": "code",
   "execution_count": 11,
   "metadata": {},
   "outputs": [],
   "source": [
    "# predict\n",
    "\n",
    "def predict(parameters, X):\n",
    "    \"\"\"\n",
    "    Using the learned parameters, predicts a class for each example in X\n",
    "    \n",
    "    Arguments:\n",
    "    parameters -- python dictionary containing your parameters \n",
    "    X -- input data of size (n_x, m)\n",
    "    \n",
    "    Returns\n",
    "    predictions -- vector of predictions of our model (red: 0 / blue: 1)\n",
    "    \"\"\"\n",
    "    \n",
    "    # Computes probabilities using forward propagation, and classifies to 0/1 using 0.5 as the threshold.\n",
    "    ### START CODE HERE ### (≈ 2 lines of code)\n",
    "    output, cache = forward_propagation(X,parameters)\n",
    "    #print(str(list(A2)))\n",
    "    #maxi = np.maximum.reduce(tuple(arr for arr in output))\n",
    "    row_maxes = output.T.max(axis=1).reshape(-1, 1)\n",
    "    predictions = np.where(output.T == row_maxes, 1, 0)\n",
    "    #print(output)\n",
    "    \n",
    "    return predictions.T"
   ]
  },
  {
   "cell_type": "code",
   "execution_count": 12,
   "metadata": {
    "scrolled": true
   },
   "outputs": [
    {
     "name": "stdout",
     "output_type": "stream",
     "text": [
      "Cost after iteration 0 0.010000 lr: 1.383410\n",
      "Cost after iteration 1000 0.010000 lr: 1.226554\n",
      "Cost after iteration 2000 0.010000 lr: 1.221809\n",
      "Cost after iteration 3000 0.010000 lr: 0.624126\n",
      "Cost after iteration 4000 0.010000 lr: 0.503548\n",
      "Cost after iteration 5000 0.010000 lr: 0.596978\n"
     ]
    },
    {
     "data": {
      "image/png": "[encoded data removed]",
      "text/plain": [
       "<Figure size 360x360 with 1 Axes>"
      ]
     },
     "metadata": {
      "needs_background": "light"
     },
     "output_type": "display_data"
    },
    {
     "data": {
      "image/png": "[encoded data removed]",
      "text/plain": [
       "<Figure size 360x360 with 1 Axes>"
      ]
     },
     "metadata": {
      "needs_background": "light"
     },
     "output_type": "display_data"
    },
    {
     "data": {
      "image/png": "[encoded data removed]",
      "text/plain": [
       "<Figure size 360x360 with 1 Axes>"
      ]
     },
     "metadata": {
      "needs_background": "light"
     },
     "output_type": "display_data"
    },
    {
     "name": "stdout",
     "output_type": "stream",
     "text": [
      "Accuracy for [4, 4] hidden 0.01 lr 128 minibatch: 75.82417582417582 %\n",
      "-----------------------------------------------------------------------------------\n"
     ]
    }
   ],
   "source": [
    "# Running the model with diffrent number of neurons in the hiddern layer\n",
    "learn_rate = [0.01]\n",
    "hidden_layer_sizes = [[4, 4]]\n",
    "batch = [128]\n",
    "for n_h in hidden_layer_sizes:\n",
    "    for lr in learn_rate:\n",
    "        for mini_batch in batch:\n",
    "            parameters = nn_model(X_train, Y_train, n_h, num_iterations = 5001, learning_rate = lr, mini_batch = mini_batch, print_cost=True)\n",
    "            predictions = predict(parameters, X_test)\n",
    "            accuracy = np.sum(predictions.T == Y_test.T) / 2 / Y_test.shape[1] * 100\n",
    "            print (\"Accuracy for {} hidden {} lr {} minibatch: {} %\".format(n_h, lr, mini_batch, accuracy))\n",
    "            print('-----------------------------------------------------------------------------------')"
   ]
  },
  {
   "cell_type": "code",
   "execution_count": null,
   "metadata": {},
   "outputs": [],
   "source": []
  }
 ],
 "metadata": {
  "coursera": {
   "course_slug": "neural-networks-deep-learning",
   "graded_item_id": "wRuwL",
   "launcher_item_id": "NI888"
  },
  "kernelspec": {
   "display_name": "Python 3",
   "language": "python",
   "name": "python3"
  },
  "language_info": {
   "codemirror_mode": {
    "name": "ipython",
    "version": 3
   },
   "file_extension": ".py",
   "mimetype": "text/x-python",
   "name": "python",
   "nbconvert_exporter": "python",
   "pygments_lexer": "ipython3",
   "version": "3.7.3"
  }
 },
 "nbformat": 4,
 "nbformat_minor": 2
}
