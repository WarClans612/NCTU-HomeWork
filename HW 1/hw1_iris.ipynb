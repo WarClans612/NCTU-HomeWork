{
 "cells": [
  {
   "cell_type": "code",
   "execution_count": 10,
   "metadata": {},
   "outputs": [],
   "source": [
    "import numpy as np\n",
    "import pandas as pd\n",
    "import matplotlib.pyplot as plt\n",
    "from statistics import mode\n",
    "from sklearn import tree\n",
    "from sklearn.model_selection import KFold, train_test_split"
   ]
  },
  {
   "cell_type": "code",
   "execution_count": 11,
   "metadata": {},
   "outputs": [],
   "source": [
    "iris = pd.read_csv(\"iris.data.csv\")\n",
    "data = iris.iloc[ : , 0:4 ]\n",
    "targ = iris.iloc[ : , 4: ] \n",
    "train_d, test_d, train_t, test_t = train_test_split(data, targ, test_size=0.3)\n",
    "dic = {'Iris-setosa':0 , 'Iris-versicolor':1 , 'Iris-virginica':2}\n",
    "# print(test_d)"
   ]
  },
  {
   "cell_type": "code",
   "execution_count": 12,
   "metadata": {},
   "outputs": [],
   "source": [
    "# map targets into integer index\n",
    "train_tid, test_tid = [], []\n",
    "for i in range(len(train_t)):\n",
    "    train_tid.append( dic[ train_t.values[i][0] ] )\n",
    "for i in range(len(test_t)):\n",
    "    test_tid.append( dic[ test_t.values[i][0] ] )"
   ]
  },
  {
   "cell_type": "code",
   "execution_count": 13,
   "metadata": {},
   "outputs": [],
   "source": [
    "# select two features per tree\n",
    "ord = [[0, 1], [0, 2], [0, 3], [1, 2], [1, 3], [2, 3]]"
   ]
  },
  {
   "cell_type": "code",
   "execution_count": 14,
   "metadata": {},
   "outputs": [
    {
     "data": {
      "text/html": [
       "<style  type=\"text/css\" >\n",
       "</style>  \n",
       "<table id=\"T_71c8820e_d3ae_11e8_929e_14dae9966b4e\" > \n",
       "<thead>    <tr> \n",
       "        <th class=\"blank level0\" ></th> \n",
       "        <th class=\"col_heading level0 col0\" >Setosa (p)</th> \n",
       "        <th class=\"col_heading level0 col1\" >Versicolor (p)</th> \n",
       "        <th class=\"col_heading level0 col2\" >Virginica (p)</th> \n",
       "    </tr></thead> \n",
       "<tbody>    <tr> \n",
       "        <th id=\"T_71c8820e_d3ae_11e8_929e_14dae9966b4elevel0_row0\" class=\"row_heading level0 row0\" >Setosa (t)</th> \n",
       "        <td id=\"T_71c8820e_d3ae_11e8_929e_14dae9966b4erow0_col0\" class=\"data row0 col0\" >12</td> \n",
       "        <td id=\"T_71c8820e_d3ae_11e8_929e_14dae9966b4erow0_col1\" class=\"data row0 col1\" >0</td> \n",
       "        <td id=\"T_71c8820e_d3ae_11e8_929e_14dae9966b4erow0_col2\" class=\"data row0 col2\" >0</td> \n",
       "    </tr>    <tr> \n",
       "        <th id=\"T_71c8820e_d3ae_11e8_929e_14dae9966b4elevel0_row1\" class=\"row_heading level0 row1\" >Versicolor (t)</th> \n",
       "        <td id=\"T_71c8820e_d3ae_11e8_929e_14dae9966b4erow1_col0\" class=\"data row1 col0\" >0</td> \n",
       "        <td id=\"T_71c8820e_d3ae_11e8_929e_14dae9966b4erow1_col1\" class=\"data row1 col1\" >12</td> \n",
       "        <td id=\"T_71c8820e_d3ae_11e8_929e_14dae9966b4erow1_col2\" class=\"data row1 col2\" >1</td> \n",
       "    </tr>    <tr> \n",
       "        <th id=\"T_71c8820e_d3ae_11e8_929e_14dae9966b4elevel0_row2\" class=\"row_heading level0 row2\" >Virginica (t)</th> \n",
       "        <td id=\"T_71c8820e_d3ae_11e8_929e_14dae9966b4erow2_col0\" class=\"data row2 col0\" >0</td> \n",
       "        <td id=\"T_71c8820e_d3ae_11e8_929e_14dae9966b4erow2_col1\" class=\"data row2 col1\" >3</td> \n",
       "        <td id=\"T_71c8820e_d3ae_11e8_929e_14dae9966b4erow2_col2\" class=\"data row2 col2\" >17</td> \n",
       "    </tr></tbody> \n",
       "</table> "
      ],
      "text/plain": [
       "<pandas.io.formats.style.Styler at 0x7fc200264d30>"
      ]
     },
     "execution_count": 14,
     "metadata": {},
     "output_type": "execute_result"
    }
   ],
   "source": [
    "# Resubstitution\n",
    "rf_rs = []\n",
    "scr_rs = [0] * len(ord)\n",
    "\n",
    "# training\n",
    "for i in range(len(ord)):\n",
    "    dtr = tree.DecisionTreeClassifier()\n",
    "    dtr = dtr.fit(train_d.iloc[ : , ord[i] ], train_tid)\n",
    "    # validation\n",
    "    scr_rs[i] = dtr.score(train_d.iloc[ : , ord[i] ], train_tid)\n",
    "    rf_rs.append(dtr)\n",
    "    \n",
    "# testing\n",
    "pr_rs = []\n",
    "for i in range(len(ord)):\n",
    "    pred = rf_rs[i].predict( test_d.iloc[ : , ord[i] ] )\n",
    "    for j in range(len(pred)):\n",
    "        try: pr_rs[j].append( pred[j] )\n",
    "        except: pr_rs.append( [ pred[j] ] )\n",
    "            \n",
    "final_pred = []\n",
    "for i in range(len(pr_rs)):\n",
    "    try: final_pred.append(mode(pr_rs[i]))\n",
    "    except: final_pred.append('')\n",
    "# print(final_pred)\n",
    "\n",
    "# confusion matrix\n",
    "confmx = pd.DataFrame( data=np.zeros((3, 3), dtype=int), columns=['Setosa (p)', 'Versicolor (p)', 'Virginica (p)'], index=['Setosa (t)', 'Versicolor (t)', 'Virginica (t)'] )\n",
    "for i in range(len(final_pred)):\n",
    "    try: confmx.iloc[ test_tid[i], final_pred[i] ] += 1\n",
    "    except: continue\n",
    "\n",
    "# precision/recall\n",
    "prmx = pd.DataFrame( data=np.zeros((3, 2), dtype=int), columns=['precision', 'recall'], index=['Setosa', 'Versicolor', 'Virginica'] )\n",
    "for i in range(len(prmx.index)):\n",
    "    prmx.iloc[i, 0] = confmx.iloc[i, i] / sum(confmx.iloc[ : , i ]) # precision\n",
    "    prmx.iloc[i, 1] = confmx.iloc[i, i] / sum(confmx.iloc[ i, : ]) # recall\n",
    "\n",
    "confmx.style"
   ]
  },
  {
   "cell_type": "code",
   "execution_count": 15,
   "metadata": {},
   "outputs": [
    {
     "data": {
      "text/html": [
       "<style  type=\"text/css\" >\n",
       "</style>  \n",
       "<table id=\"T_71c8820f_d3ae_11e8_929e_14dae9966b4e\" > \n",
       "<thead>    <tr> \n",
       "        <th class=\"blank level0\" ></th> \n",
       "        <th class=\"col_heading level0 col0\" >precision</th> \n",
       "        <th class=\"col_heading level0 col1\" >recall</th> \n",
       "    </tr></thead> \n",
       "<tbody>    <tr> \n",
       "        <th id=\"T_71c8820f_d3ae_11e8_929e_14dae9966b4elevel0_row0\" class=\"row_heading level0 row0\" >Setosa</th> \n",
       "        <td id=\"T_71c8820f_d3ae_11e8_929e_14dae9966b4erow0_col0\" class=\"data row0 col0\" >1</td> \n",
       "        <td id=\"T_71c8820f_d3ae_11e8_929e_14dae9966b4erow0_col1\" class=\"data row0 col1\" >1</td> \n",
       "    </tr>    <tr> \n",
       "        <th id=\"T_71c8820f_d3ae_11e8_929e_14dae9966b4elevel0_row1\" class=\"row_heading level0 row1\" >Versicolor</th> \n",
       "        <td id=\"T_71c8820f_d3ae_11e8_929e_14dae9966b4erow1_col0\" class=\"data row1 col0\" >0.8</td> \n",
       "        <td id=\"T_71c8820f_d3ae_11e8_929e_14dae9966b4erow1_col1\" class=\"data row1 col1\" >0.923077</td> \n",
       "    </tr>    <tr> \n",
       "        <th id=\"T_71c8820f_d3ae_11e8_929e_14dae9966b4elevel0_row2\" class=\"row_heading level0 row2\" >Virginica</th> \n",
       "        <td id=\"T_71c8820f_d3ae_11e8_929e_14dae9966b4erow2_col0\" class=\"data row2 col0\" >0.944444</td> \n",
       "        <td id=\"T_71c8820f_d3ae_11e8_929e_14dae9966b4erow2_col1\" class=\"data row2 col1\" >0.85</td> \n",
       "    </tr></tbody> \n",
       "</table> "
      ],
      "text/plain": [
       "<pandas.io.formats.style.Styler at 0x7fc20075f588>"
      ]
     },
     "execution_count": 15,
     "metadata": {},
     "output_type": "execute_result"
    }
   ],
   "source": [
    "prmx.style"
   ]
  },
  {
   "cell_type": "code",
   "execution_count": 16,
   "metadata": {},
   "outputs": [],
   "source": [
    "# dead function\n",
    "def draw(X, Y, clf, ):    \n",
    "    # pairidx: index of order(start from 0), pair: index of chosen columns\n",
    "    # We only take the two corresponding features\n",
    "    X = iris.data[:, pair]\n",
    "    Y = iris.target\n",
    "\n",
    "    # Train\n",
    "    clf = DecisionTreeClassifier().fit(X, Y)\n",
    "\n",
    "    # Plot the decision boundary\n",
    "    plt.subplot(2, 3, pairidx + 1)\n",
    "\n",
    "    x_min, x_max = X[:, 0].min() - 1, X[:, 0].max() + 1\n",
    "    y_min, y_max = X[:, 1].min() - 1, X[:, 1].max() + 1\n",
    "    xx, yy = np.meshgrid(np.arange(x_min, x_max, plot_step),\n",
    "                         np.arange(y_min, y_max, plot_step))\n",
    "\n",
    "    plt.tight_layout(h_pad=0.5, w_pad=0.5, pad=2.5)\n",
    "\n",
    "    Z = clf.predict(np.c_[xx.ravel(), yy.ravel()])\n",
    "    #print(Z)\n",
    "    Z = Z.reshape(xx.shape)\n",
    "    cs = plt.contourf(xx, yy, Z, cmap=plt.cm.RdYlBu)\n",
    "\n",
    "    plt.xlabel(iris.feature_names[pair[0]])\n",
    "    plt.ylabel(iris.feature_names[pair[1]])\n",
    "\n",
    "\n",
    "\n",
    "    # Plot the training points\n",
    "    for i, color in zip(range(n_classes), plot_colors):\n",
    "        idx = np.where(Y == i)\n",
    "        plt.scatter(X[idx, 0], X[idx, 1], c=color, label=iris.target_names[i],\n",
    "                    cmap=plt.cm.RdYlBu, edgecolor='black', s=15)\n",
    "\n",
    "######## out of loop #######\n",
    "\n",
    "# n_classes = 3\n",
    "# plot_colors = \"ryb\"\n",
    "# plot_step = 0.02\n",
    "\n",
    "\n",
    "# plt.suptitle(\"Decision surface of a decision tree using paired features\")\n",
    "# plt.legend(loc='lower right', borderpad=0, handletextpad=0)\n",
    "# plt.axis(\"tight\")\n",
    "\n",
    "# plt.show()"
   ]
  },
  {
   "cell_type": "code",
   "execution_count": 8,
   "metadata": {},
   "outputs": [
    {
     "data": {
      "text/html": [
       "<style  type=\"text/css\" >\n",
       "</style>  \n",
       "<table id=\"T_2f9e30e2_d3ae_11e8_929e_14dae9966b4e\" > \n",
       "<thead>    <tr> \n",
       "        <th class=\"blank level0\" ></th> \n",
       "        <th class=\"col_heading level0 col0\" >Setosa (p)</th> \n",
       "        <th class=\"col_heading level0 col1\" >Versicolor (p)</th> \n",
       "        <th class=\"col_heading level0 col2\" >Virginica (p)</th> \n",
       "    </tr></thead> \n",
       "<tbody>    <tr> \n",
       "        <th id=\"T_2f9e30e2_d3ae_11e8_929e_14dae9966b4elevel0_row0\" class=\"row_heading level0 row0\" >Setosa (t)</th> \n",
       "        <td id=\"T_2f9e30e2_d3ae_11e8_929e_14dae9966b4erow0_col0\" class=\"data row0 col0\" >18</td> \n",
       "        <td id=\"T_2f9e30e2_d3ae_11e8_929e_14dae9966b4erow0_col1\" class=\"data row0 col1\" >0</td> \n",
       "        <td id=\"T_2f9e30e2_d3ae_11e8_929e_14dae9966b4erow0_col2\" class=\"data row0 col2\" >0</td> \n",
       "    </tr>    <tr> \n",
       "        <th id=\"T_2f9e30e2_d3ae_11e8_929e_14dae9966b4elevel0_row1\" class=\"row_heading level0 row1\" >Versicolor (t)</th> \n",
       "        <td id=\"T_2f9e30e2_d3ae_11e8_929e_14dae9966b4erow1_col0\" class=\"data row1 col0\" >0</td> \n",
       "        <td id=\"T_2f9e30e2_d3ae_11e8_929e_14dae9966b4erow1_col1\" class=\"data row1 col1\" >11</td> \n",
       "        <td id=\"T_2f9e30e2_d3ae_11e8_929e_14dae9966b4erow1_col2\" class=\"data row1 col2\" >2</td> \n",
       "    </tr>    <tr> \n",
       "        <th id=\"T_2f9e30e2_d3ae_11e8_929e_14dae9966b4elevel0_row2\" class=\"row_heading level0 row2\" >Virginica (t)</th> \n",
       "        <td id=\"T_2f9e30e2_d3ae_11e8_929e_14dae9966b4erow2_col0\" class=\"data row2 col0\" >0</td> \n",
       "        <td id=\"T_2f9e30e2_d3ae_11e8_929e_14dae9966b4erow2_col1\" class=\"data row2 col1\" >2</td> \n",
       "        <td id=\"T_2f9e30e2_d3ae_11e8_929e_14dae9966b4erow2_col2\" class=\"data row2 col2\" >12</td> \n",
       "    </tr></tbody> \n",
       "</table> "
      ],
      "text/plain": [
       "<pandas.io.formats.style.Styler at 0x7f38c3f510f0>"
      ]
     },
     "execution_count": 8,
     "metadata": {},
     "output_type": "execute_result"
    }
   ],
   "source": [
    "# K-fold\n",
    "kf = KFold(n_splits=10)\n",
    "\n",
    "# training\n",
    "rf_kf = []\n",
    "scr_kf = [0] * len(ord)\n",
    "for i in range(len(ord)):\n",
    "    for tr, val in kf.split(train_d):\n",
    "        dtr = tree.DecisionTreeClassifier()\n",
    "        dtr = dtr.fit( train_d.iloc[tr, ord[i]], train_t.iloc[tr] )\n",
    "        # validation\n",
    "        scr = dtr.score( train_d.iloc[val, ord[i]], train_t.iloc[val] )\n",
    "        if scr > scr_kf[i]:\n",
    "            scr_kf[i] = scr\n",
    "            try: rf_kf[i] = dtr\n",
    "            except: rf_kf.append(dtr)\n",
    "                \n",
    "# testing\n",
    "pr_kf = []\n",
    "for i in range(len(ord)):\n",
    "    pred = rf_kf[i].predict( test_d.iloc[ : , ord[i] ] )\n",
    "    for j in range(len(pred)):\n",
    "        try: pr_kf[j].append( pred[j] )\n",
    "        except: pr_kf.append( [ pred[j] ] )\n",
    "            \n",
    "final_pred = []\n",
    "for i in range(len(pr_kf)):\n",
    "    try: final_pred.append(mode(pr_kf[i]))\n",
    "    except: final_pred.append('')\n",
    "# print(final_pred)\n",
    "\n",
    "confmx = pd.DataFrame( data=np.zeros((3, 3), dtype=int), columns=['Setosa (p)', 'Versicolor (p)', 'Virginica (p)'], index=['Setosa (t)', 'Versicolor (t)', 'Virginica (t)'] )\n",
    "for i in range(len(final_pred)):\n",
    "    try: confmx.iloc[ test_tid[i], dic[ final_pred[i] ] ] += 1\n",
    "    except: continue\n",
    "\n",
    "# precision/recall\n",
    "prmx = pd.DataFrame( data=np.zeros((3, 2), dtype=int), columns=['precision', 'recall'], index=['Setosa', 'Versicolor', 'Virginica'] )\n",
    "for i in range(len(prmx.index)):\n",
    "    prmx.iloc[i, 0] = confmx.iloc[i, i] / sum(confmx.iloc[ : , i ]) # precision\n",
    "    prmx.iloc[i, 1] = confmx.iloc[i, i] / sum(confmx.iloc[ i, : ]) # recall\n",
    "\n",
    "confmx.style"
   ]
  },
  {
   "cell_type": "code",
   "execution_count": 9,
   "metadata": {},
   "outputs": [
    {
     "data": {
      "text/html": [
       "<style  type=\"text/css\" >\n",
       "</style>  \n",
       "<table id=\"T_2f9e30e3_d3ae_11e8_929e_14dae9966b4e\" > \n",
       "<thead>    <tr> \n",
       "        <th class=\"blank level0\" ></th> \n",
       "        <th class=\"col_heading level0 col0\" >precision</th> \n",
       "        <th class=\"col_heading level0 col1\" >recall</th> \n",
       "    </tr></thead> \n",
       "<tbody>    <tr> \n",
       "        <th id=\"T_2f9e30e3_d3ae_11e8_929e_14dae9966b4elevel0_row0\" class=\"row_heading level0 row0\" >Setosa</th> \n",
       "        <td id=\"T_2f9e30e3_d3ae_11e8_929e_14dae9966b4erow0_col0\" class=\"data row0 col0\" >1</td> \n",
       "        <td id=\"T_2f9e30e3_d3ae_11e8_929e_14dae9966b4erow0_col1\" class=\"data row0 col1\" >1</td> \n",
       "    </tr>    <tr> \n",
       "        <th id=\"T_2f9e30e3_d3ae_11e8_929e_14dae9966b4elevel0_row1\" class=\"row_heading level0 row1\" >Versicolor</th> \n",
       "        <td id=\"T_2f9e30e3_d3ae_11e8_929e_14dae9966b4erow1_col0\" class=\"data row1 col0\" >0.846154</td> \n",
       "        <td id=\"T_2f9e30e3_d3ae_11e8_929e_14dae9966b4erow1_col1\" class=\"data row1 col1\" >0.846154</td> \n",
       "    </tr>    <tr> \n",
       "        <th id=\"T_2f9e30e3_d3ae_11e8_929e_14dae9966b4elevel0_row2\" class=\"row_heading level0 row2\" >Virginica</th> \n",
       "        <td id=\"T_2f9e30e3_d3ae_11e8_929e_14dae9966b4erow2_col0\" class=\"data row2 col0\" >0.857143</td> \n",
       "        <td id=\"T_2f9e30e3_d3ae_11e8_929e_14dae9966b4erow2_col1\" class=\"data row2 col1\" >0.857143</td> \n",
       "    </tr></tbody> \n",
       "</table> "
      ],
      "text/plain": [
       "<pandas.io.formats.style.Styler at 0x7f38aaa0ee10>"
      ]
     },
     "execution_count": 9,
     "metadata": {},
     "output_type": "execute_result"
    }
   ],
   "source": [
    "prmx.style"
   ]
  },
  {
   "cell_type": "code",
   "execution_count": null,
   "metadata": {},
   "outputs": [],
   "source": []
  }
 ],
 "metadata": {
  "kernelspec": {
   "display_name": "Python 3",
   "language": "python",
   "name": "python3"
  },
  "language_info": {
   "codemirror_mode": {
    "name": "ipython",
    "version": 3
   },
   "file_extension": ".py",
   "mimetype": "text/x-python",
   "name": "python",
   "nbconvert_exporter": "python",
   "pygments_lexer": "ipython3",
   "version": "3.5.2"
  }
 },
 "nbformat": 4,
 "nbformat_minor": 2
}
