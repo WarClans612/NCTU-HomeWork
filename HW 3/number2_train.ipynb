{
 "cells": [
  {
   "cell_type": "code",
   "execution_count": 1,
   "metadata": {},
   "outputs": [],
   "source": [
    "import itertools\n",
    "\n",
    "import torchvision.transforms as transforms\n",
    "from torch.utils.data import DataLoader\n",
    "from torch.autograd import Variable\n",
    "from PIL import Image\n",
    "import torch\n",
    "import torchvision\n",
    "import numpy as np\n",
    "\n",
    "from models import Generator\n",
    "from models import Discriminator\n",
    "from utils import ReplayBuffer\n",
    "from utils import weights_init_normal\n",
    "import os\n",
    "\n",
    "import time\n",
    "start_time = time.time()"
   ]
  },
  {
   "cell_type": "code",
   "execution_count": 2,
   "metadata": {},
   "outputs": [],
   "source": [
    "if not os.path.exists('ckpt'):\n",
    "    os.makedirs('ckpt')\n",
    "\n",
    "# parameters\n",
    "#TODO : set up all the parameters\n",
    "epochs = 20    # number of epochs of training\n",
    "batchsize = 50    # size of the batches\n",
    "animation_root = '../animation'    # root directory of the dataset\n",
    "cartoon_root = '../cartoon'    # root directory of the dataset\n",
    "lr = 0.0002    # initial learning rate\n",
    "size = 32    # size of the data crop (squared assumed)\n",
    "input_nc = 3    # number of channels of input data\n",
    "output_nc = 3    # number of channels of output data"
   ]
  },
  {
   "cell_type": "code",
   "execution_count": 3,
   "metadata": {},
   "outputs": [],
   "source": [
    "# Device configuration\n",
    "device = torch.device('cuda' if torch.cuda.is_available() else 'cpu')"
   ]
  },
  {
   "cell_type": "code",
   "execution_count": 4,
   "metadata": {},
   "outputs": [
    {
     "name": "stderr",
     "output_type": "stream",
     "text": [
      "/home/phua/Pelajaran/deep_learning/Homework3/number2/utils.py:44: UserWarning: nn.init.normal is now deprecated in favor of nn.init.normal_.\n",
      "  torch.nn.init.normal(m.weight.data, 0.0, 0.02)\n"
     ]
    },
    {
     "data": {
      "text/plain": [
       "Discriminator(\n",
       "  (model): Sequential(\n",
       "    (0): Conv2d(3, 64, kernel_size=(4, 4), stride=(2, 2), padding=(1, 1))\n",
       "    (1): LeakyReLU(negative_slope=0.2, inplace)\n",
       "    (2): Conv2d(64, 128, kernel_size=(4, 4), stride=(2, 2), padding=(1, 1))\n",
       "    (3): InstanceNorm2d(128, eps=1e-05, momentum=0.1, affine=False, track_running_stats=False)\n",
       "    (4): LeakyReLU(negative_slope=0.2, inplace)\n",
       "    (5): Conv2d(128, 256, kernel_size=(4, 4), stride=(2, 2), padding=(1, 1))\n",
       "    (6): InstanceNorm2d(256, eps=1e-05, momentum=0.1, affine=False, track_running_stats=False)\n",
       "    (7): LeakyReLU(negative_slope=0.2, inplace)\n",
       "    (8): Conv2d(256, 512, kernel_size=(4, 4), stride=(1, 1), padding=(1, 1))\n",
       "    (9): InstanceNorm2d(512, eps=1e-05, momentum=0.1, affine=False, track_running_stats=False)\n",
       "    (10): LeakyReLU(negative_slope=0.2, inplace)\n",
       "    (11): Conv2d(512, 1, kernel_size=(4, 4), stride=(1, 1), padding=(1, 1))\n",
       "  )\n",
       ")"
      ]
     },
     "execution_count": 4,
     "metadata": {},
     "output_type": "execute_result"
    }
   ],
   "source": [
    "###### Definition of variables ######\n",
    "# Networks\n",
    "netG_A2B = Generator(input_nc, output_nc)\n",
    "netG_B2A = Generator(output_nc, input_nc)\n",
    "netD_A = Discriminator(input_nc)\n",
    "netD_B = Discriminator(output_nc)\n",
    "\n",
    "netG_A2B.to(device)\n",
    "netG_B2A.to(device)\n",
    "netD_A.to(device)\n",
    "netD_B.to(device)\n",
    "\n",
    "netG_A2B.apply(weights_init_normal)\n",
    "netG_B2A.apply(weights_init_normal)\n",
    "netD_A.apply(weights_init_normal)\n",
    "netD_B.apply(weights_init_normal)"
   ]
  },
  {
   "cell_type": "code",
   "execution_count": 5,
   "metadata": {},
   "outputs": [],
   "source": [
    "# Lossess\n",
    "criterion_GAN = torch.nn.MSELoss()\n",
    "criterion_cycle = torch.nn.L1Loss()\n",
    "criterion_identity = torch.nn.L1Loss()"
   ]
  },
  {
   "cell_type": "code",
   "execution_count": 6,
   "metadata": {},
   "outputs": [],
   "source": [
    "# Optimizers\n",
    "optimizer_G = torch.optim.Adam(itertools.chain(netG_A2B.parameters(), netG_B2A.parameters()),\n",
    "                                lr=lr, betas=(0.5, 0.999))\n",
    "optimizer_D_A = torch.optim.Adam(netD_A.parameters(), lr=lr, betas=(0.5, 0.999))\n",
    "optimizer_D_B = torch.optim.Adam(netD_B.parameters(), lr=lr, betas=(0.5, 0.999))"
   ]
  },
  {
   "cell_type": "code",
   "execution_count": 7,
   "metadata": {},
   "outputs": [],
   "source": [
    "# Inputs & targets memory allocation\n",
    "Tensor = torch.cuda.FloatTensor if torch.cuda.is_available() else torch.Tensor\n",
    "input_A = Tensor(batchsize, input_nc, size, size)\n",
    "input_B = Tensor(batchsize, output_nc, size, size)\n",
    "target_real = Variable(Tensor(batchsize).fill_(1.0), requires_grad=False)\n",
    "target_fake = Variable(Tensor(batchsize).fill_(0.0), requires_grad=False)\n",
    "\n",
    "fake_A_buffer = ReplayBuffer()\n",
    "fake_B_buffer = ReplayBuffer()"
   ]
  },
  {
   "cell_type": "code",
   "execution_count": 8,
   "metadata": {},
   "outputs": [],
   "source": [
    "# Dataset loader\n",
    "transform = transforms.Compose([transforms.Resize((32, 32)), transforms.ToTensor(), transforms.Normalize((0.5, 0.5, 0.5), (0.5, 0.5, 0.5))])\n",
    "animation_set = torchvision.datasets.ImageFolder(animation_root, transform) \n",
    "cartoon_set = torchvision.datasets.ImageFolder(cartoon_root, transform) \n",
    "animation_loader = torch.utils.data.DataLoader(dataset=animation_set,batch_size=batchsize,shuffle=True)\n",
    "cartoon_loader = torch.utils.data.DataLoader(dataset=cartoon_set,batch_size=batchsize,shuffle=True)"
   ]
  },
  {
   "cell_type": "code",
   "execution_count": 9,
   "metadata": {},
   "outputs": [
    {
     "name": "stdout",
     "output_type": "stream",
     "text": [
      "epoch 1\n"
     ]
    },
    {
     "name": "stderr",
     "output_type": "stream",
     "text": [
      "/home/phua/anaconda3/envs/dl/lib/python3.7/site-packages/torch/nn/modules/loss.py:443: UserWarning: Using a target size (torch.Size([50])) that is different to the input size (torch.Size([50, 1])). This will likely lead to incorrect results due to broadcasting. Please ensure they have the same size.\n",
      "  return F.mse_loss(input, target, reduction=self.reduction)\n"
     ]
    },
    {
     "name": "stdout",
     "output_type": "stream",
     "text": [
      "loss_G :  7.137564 ,loss_D: 0.34190774\n",
      "loss_G :  6.2933993 ,loss_D: 0.362305\n",
      "epoch 2\n",
      "loss_G :  5.8380847 ,loss_D: 0.31689668\n",
      "loss_G :  5.85699 ,loss_D: 0.27226377\n",
      "epoch 3\n",
      "loss_G :  6.057973 ,loss_D: 0.36689314\n",
      "loss_G :  5.1620865 ,loss_D: 0.30803746\n",
      "epoch 4\n",
      "loss_G :  5.3022013 ,loss_D: 0.3198412\n",
      "loss_G :  4.7039814 ,loss_D: 0.36451176\n",
      "epoch 5\n",
      "loss_G :  5.3769407 ,loss_D: 0.31125778\n",
      "loss_G :  4.828934 ,loss_D: 0.41668677\n",
      "epoch 6\n",
      "loss_G :  4.770818 ,loss_D: 0.34762827\n",
      "loss_G :  4.243789 ,loss_D: 0.51793087\n",
      "epoch 7\n",
      "loss_G :  4.771199 ,loss_D: 0.305318\n",
      "loss_G :  4.4907694 ,loss_D: 0.31449252\n",
      "epoch 8\n",
      "loss_G :  4.2841616 ,loss_D: 0.45857388\n",
      "loss_G :  4.327481 ,loss_D: 0.28988713\n",
      "epoch 9\n",
      "loss_G :  4.6738067 ,loss_D: 0.30930358\n",
      "loss_G :  4.514515 ,loss_D: 0.26865143\n",
      "epoch 10\n",
      "loss_G :  4.9134393 ,loss_D: 0.34708083\n",
      "loss_G :  4.13366 ,loss_D: 0.35560793\n",
      "epoch 11\n",
      "loss_G :  4.2707515 ,loss_D: 0.3620999\n",
      "loss_G :  4.2822504 ,loss_D: 0.2890925\n",
      "epoch 12\n",
      "loss_G :  4.592839 ,loss_D: 0.4150443\n",
      "loss_G :  4.624393 ,loss_D: 0.29122627\n",
      "epoch 13\n",
      "loss_G :  4.4041967 ,loss_D: 0.28615463\n",
      "loss_G :  4.227556 ,loss_D: 0.26881102\n",
      "epoch 14\n",
      "loss_G :  4.382023 ,loss_D: 0.2844164\n",
      "loss_G :  4.3111043 ,loss_D: 0.26508728\n",
      "epoch 15\n",
      "loss_G :  5.2312517 ,loss_D: 0.6405356\n",
      "loss_G :  4.35072 ,loss_D: 0.28993607\n",
      "epoch 16\n",
      "loss_G :  4.270892 ,loss_D: 0.31253892\n",
      "loss_G :  4.079543 ,loss_D: 0.26276007\n",
      "epoch 17\n",
      "loss_G :  4.124715 ,loss_D: 0.30887878\n",
      "loss_G :  4.1755977 ,loss_D: 0.2972041\n",
      "epoch 18\n",
      "loss_G :  3.4435496 ,loss_D: 0.3305119\n",
      "loss_G :  4.0764637 ,loss_D: 0.2882192\n",
      "epoch 19\n",
      "loss_G :  3.6682687 ,loss_D: 0.31651363\n",
      "loss_G :  4.338468 ,loss_D: 0.28641164\n",
      "Total cost time 01 hr 02 min 58 sec\n"
     ]
    }
   ],
   "source": [
    "###################################\n",
    "G_loss  = []\n",
    "DA_loss  = []\n",
    "DB_loss  = []\n",
    "###### Training ######\n",
    "for epoch in range(1, epochs):\n",
    "    i=1\n",
    "    print('epoch',epoch)\n",
    "    for batch in zip(animation_loader, cartoon_loader):\n",
    "        # Set model input\n",
    "        A = torch.FloatTensor(batch[0][0])\n",
    "        B = torch.FloatTensor(batch[1][0])\n",
    "        real_A = Variable(input_A.copy_(A))\n",
    "        real_B = Variable(input_B.copy_(B))\n",
    "\n",
    "        ###### Generators A2B and B2A ######\n",
    "        optimizer_G.zero_grad()\n",
    "\n",
    "        # Identity loss\n",
    "        # G_A2B(B) should equal B if real B is fed\n",
    "        ######################################################################\n",
    "        # TODO : calculate the loss for the generators, and assign to loss_G\n",
    "        same_B = netG_A2B(real_B)\n",
    "        loss_identity_B = criterion_identity(same_B, real_B)*5.0\n",
    "        # G_B2A(A) should equal A if real A is fed\n",
    "        same_A = netG_B2A(real_A)\n",
    "        loss_identity_A = criterion_identity(same_A, real_A)*5.0\n",
    "\n",
    "        # GAN loss\n",
    "        fake_B = netG_A2B(real_A)\n",
    "        pred_fake = netD_B(fake_B)\n",
    "        loss_GAN_A2B = criterion_GAN(pred_fake, target_real)\n",
    "\n",
    "        fake_A = netG_B2A(real_B)\n",
    "        pred_fake = netD_A(fake_A)\n",
    "        loss_GAN_B2A = criterion_GAN(pred_fake, target_real)\n",
    "\n",
    "        # Cycle loss\n",
    "        recovered_A = netG_B2A(fake_B)\n",
    "        loss_cycle_ABA = criterion_cycle(recovered_A, real_A)*10.0\n",
    "\n",
    "        recovered_B = netG_A2B(fake_A)\n",
    "        loss_cycle_BAB = criterion_cycle(recovered_B, real_B)*10.0\n",
    "\n",
    "        # Total loss\n",
    "        loss_G = loss_identity_A + loss_identity_B + loss_GAN_A2B + loss_GAN_B2A + loss_cycle_ABA + loss_cycle_BAB\n",
    "        ######################################################################\n",
    "        loss_G.backward()\n",
    "        \n",
    "        optimizer_G.step()\n",
    "        ###################################\n",
    "\n",
    "        ###### Discriminator A ######\n",
    "        optimizer_D_A.zero_grad()\n",
    "        ######################################################################\n",
    "        # TODO : calculate the loss for a discriminator, and assign to loss_D_A\n",
    "        # Real loss\n",
    "        pred_real = netD_A(real_A)\n",
    "        loss_D_real = criterion_GAN(pred_real, target_real)\n",
    "\n",
    "        # Fake loss\n",
    "        fake_A = fake_A_buffer.push_and_pop(fake_A)\n",
    "        pred_fake = netD_A(fake_A.detach())\n",
    "        loss_D_fake = criterion_GAN(pred_fake, target_fake)\n",
    "\n",
    "        # Total loss\n",
    "        loss_D_A = (loss_D_real + loss_D_fake)*0.5\n",
    "        ######################################################################\n",
    "\n",
    "        loss_D_A.backward()\n",
    "\n",
    "        optimizer_D_A.step()\n",
    "        ###################################\n",
    "\n",
    "        ###### Discriminator B ######\n",
    "        optimizer_D_B.zero_grad()\n",
    "        ######################################################################\n",
    "        # TODO : calculate the loss for the other discriminator, and assign to loss_D_B\n",
    "        # Real loss\n",
    "        pred_real = netD_B(real_B)\n",
    "        loss_D_real = criterion_GAN(pred_real, target_real)\n",
    "        \n",
    "        # Fake loss\n",
    "        fake_B = fake_B_buffer.push_and_pop(fake_B)\n",
    "        pred_fake = netD_B(fake_B.detach())\n",
    "        loss_D_fake = criterion_GAN(pred_fake, target_fake)\n",
    "\n",
    "        # Total loss\n",
    "        loss_D_B = (loss_D_real + loss_D_fake)*0.5\n",
    "        ######################################################################\n",
    "        \n",
    "        loss_D_B.backward()\n",
    "\n",
    "        optimizer_D_B.step()\n",
    "        ###################################\n",
    "        \n",
    "        G_loss.append(loss_G.item())\n",
    "        DA_loss.append(loss_D_A.item())\n",
    "        DB_loss.append(loss_D_B.item())\n",
    "        # Progress report\n",
    "        if (i%100==0):\n",
    "            print(\"loss_G : \",loss_G.data.cpu().numpy() ,\",loss_D:\", (loss_D_A.data.cpu().numpy() + loss_D_B.data.cpu().numpy()))\n",
    "            i=0\n",
    "        i=i+1\n",
    "    # Save models checkpoints\n",
    "    torch.save(netG_A2B.state_dict(), 'ckpt/netG_A2B.pth')\n",
    "    torch.save(netG_B2A.state_dict(), 'ckpt/netG_B2A.pth')\n",
    "    torch.save(netD_A.state_dict(), 'ckpt/netD_A.pth')\n",
    "    torch.save(netD_B.state_dict(), 'ckpt/netD_B.pth')\n",
    "    \n",
    "end_time = time.time()\n",
    "print('Total cost time',time.strftime(\"%H hr %M min %S sec\", time.gmtime(end_time - start_time)))"
   ]
  },
  {
   "cell_type": "code",
   "execution_count": 11,
   "metadata": {},
   "outputs": [
    {
     "data": {
      "text/plain": [
       "<matplotlib.legend.Legend at 0x7f6516e5c9e8>"
      ]
     },
     "execution_count": 11,
     "metadata": {},
     "output_type": "execute_result"
    },
    {
     "data": {
      "image/png": "[encoded data removed]",
      "text/plain": [
       "<Figure size 360x360 with 1 Axes>"
      ]
     },
     "metadata": {
      "needs_background": "light"
     },
     "output_type": "display_data"
    },
    {
     "data": {
      "image/png": "[encoded data removed]",
      "text/plain": [
       "<Figure size 360x360 with 1 Axes>"
      ]
     },
     "metadata": {
      "needs_background": "light"
     },
     "output_type": "display_data"
    }
   ],
   "source": [
    "# TODO : plot the figure\n",
    "%matplotlib inline\n",
    "import matplotlib.pyplot as plt\n",
    "\n",
    "def running_mean(x, N):\n",
    "    cumsum = np.cumsum(np.insert(x, 0, 0)) \n",
    "    return (cumsum[N:] - cumsum[:-N]) / float(N)\n",
    "\n",
    "N = 100\n",
    "G_loss = running_mean(G_loss, N)\n",
    "DA_loss = running_mean(DA_loss, N)\n",
    "DB_loss = running_mean(DB_loss, N)\n",
    "\n",
    "fig, ax = plt.subplots(figsize=(5, 5))\n",
    "ax.set_title('Learning Curve'.format('default'), color='C0')\n",
    "ax.set_ylabel('Loss')\n",
    "ax.set_xlabel('Number of Epochs')\n",
    "ax.plot(list(i+1 for i in range(len(G_loss))), G_loss, 'b', label='Generator')\n",
    "ax.legend()\n",
    "\n",
    "fig, ax = plt.subplots(figsize=(5, 5))\n",
    "ax.set_title('Learning Curve'.format('default'), color='C0')\n",
    "ax.set_ylabel('Loss')\n",
    "ax.set_xlabel('Number of Epochs')\n",
    "ax.plot(list(i+1 for i in range(len(DA_loss))), DA_loss, 'b', label='Discriminator 1')\n",
    "ax.plot(list(i+1 for i in range(len(DB_loss))), DB_loss, 'tab:orange', label='Discriminator 2')\n",
    "ax.legend()"
   ]
  },
  {
   "cell_type": "code",
   "execution_count": null,
   "metadata": {},
   "outputs": [],
   "source": []
  }
 ],
 "metadata": {
  "kernelspec": {
   "display_name": "Python 3",
   "language": "python",
   "name": "python3"
  },
  "language_info": {
   "codemirror_mode": {
    "name": "ipython",
    "version": 3
   },
   "file_extension": ".py",
   "mimetype": "text/x-python",
   "name": "python",
   "nbconvert_exporter": "python",
   "pygments_lexer": "ipython3",
   "version": "3.7.3"
  }
 },
 "nbformat": 4,
 "nbformat_minor": 2
}
